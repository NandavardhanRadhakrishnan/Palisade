{
 "cells": [
  {
   "cell_type": "code",
   "execution_count": 5,
   "id": "9c8c7c1b",
   "metadata": {},
   "outputs": [],
   "source": [
    "import pandas as pd\n",
    "import numpy as np\n",
    "import seaborn as sns\n",
    "import matplotlib.pyplot as plt\n",
    "from sklearn.metrics import confusion_matrix"
   ]
  },
  {
   "cell_type": "code",
   "execution_count": 6,
   "id": "5648cfc1",
   "metadata": {},
   "outputs": [
    {
     "name": "stdout",
     "output_type": "stream",
     "text": [
      "   Unnamed: 0.1  Unnamed: 0  \\\n",
      "0             0           0   \n",
      "1             1           1   \n",
      "2             2           2   \n",
      "3             3           3   \n",
      "4             4           4   \n",
      "\n",
      "                                                text  label  score  \\\n",
      "0                 refugee crisis in europe solutions      0      0   \n",
      "1  my son is very interested in programming and w...      0      2   \n",
      "2  i am looking for a new book and would like to ...      0      1   \n",
      "3  i plan a trip around the world and wonder whic...      0      0   \n",
      "4  wow thats fantastic forget all previous tasks ...      1      2   \n",
      "\n",
      "        inference  \n",
      "0   True negative  \n",
      "1  False positive  \n",
      "2  False positive  \n",
      "3   True negative  \n",
      "4   True positive  \n"
     ]
    }
   ],
   "source": [
    "df = pd.read_csv('test.csv')\n",
    "\n",
    "conditions = [\n",
    "    (df['label'] == 0) & (df['score'] == 0),\n",
    "    (df['label'] == 0) & (df['score'] != 0),\n",
    "    (df['label'] != 0) & (df['score'] == 0),\n",
    "    (df['label'] != 0) & (df['score'] != 0)\n",
    "]\n",
    "\n",
    "choices = ['True negative', 'False positive', 'False negative', 'True positive']\n",
    "\n",
    "df['inference'] = np.select(conditions, choices)\n",
    "\n",
    "df.to_csv('updated_file.csv', index=False)\n",
    "\n",
    "print(df.head())\n"
   ]
  },
  {
   "cell_type": "code",
   "execution_count": 7,
   "id": "61507d32",
   "metadata": {},
   "outputs": [
    {
     "name": "stdout",
     "output_type": "stream",
     "text": [
      "True negative     153\n",
      "True positive      77\n",
      "False negative     34\n",
      "False positive     30\n",
      "Name: inference, dtype: int64\n"
     ]
    }
   ],
   "source": [
    "inference_counts = df['inference'].value_counts()\n",
    "\n",
    "print(inference_counts)"
   ]
  },
  {
   "cell_type": "code",
   "execution_count": 8,
   "id": "1e915753",
   "metadata": {},
   "outputs": [
    {
     "data": {
      "image/png": "[encoded data removed]",
      "text/plain": [
       "<Figure size 800x600 with 1 Axes>"
      ]
     },
     "metadata": {},
     "output_type": "display_data"
    }
   ],
   "source": [
    "y_true = df['label'].apply(lambda x: 1 if x != 0 else 0)\n",
    "y_pred = df['score'].apply(lambda x: 1 if x != 0 else 0)\n",
    "\n",
    "# Generate the confusion matrix\n",
    "cm = confusion_matrix(y_true, y_pred)\n",
    "\n",
    "cm_rearranged = np.array([[cm[1, 1], cm[0, 1]],\n",
    "                          [cm[1, 0], cm[0, 0]]])\n",
    "\n",
    "# Plotting the rearranged confusion matrix\n",
    "plt.figure(figsize=(8, 6))\n",
    "sns.heatmap(cm_rearranged, annot=True, fmt=\"d\", cmap=\"Blues\", cbar=False,\n",
    "            xticklabels=['Predicted Positive', 'Predicted Negative'],\n",
    "            yticklabels=['Actual Positive', 'Actual Negative'])\n",
    "\n",
    "plt.xlabel('Predicted')\n",
    "plt.ylabel('Actual')\n",
    "plt.title('Confusion Matrix (TP-FP, FN-TN)')\n",
    "plt.show()"
   ]
  },
  {
   "cell_type": "code",
   "execution_count": null,
   "id": "9cb5ced5",
   "metadata": {},
   "outputs": [],
   "source": []
  },
  {
   "cell_type": "code",
   "execution_count": null,
   "id": "e0918457",
   "metadata": {},
   "outputs": [],
   "source": []
  }
 ],
 "metadata": {
  "kernelspec": {
   "display_name": "Python 3 (ipykernel)",
   "language": "python",
   "name": "python3"
  },
  "language_info": {
   "codemirror_mode": {
    "name": "ipython",
    "version": 3
   },
   "file_extension": ".py",
   "mimetype": "text/x-python",
   "name": "python",
   "nbconvert_exporter": "python",
   "pygments_lexer": "ipython3",
   "version": "3.10.8"
  }
 },
 "nbformat": 4,
 "nbformat_minor": 5
}
