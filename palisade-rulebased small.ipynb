{
 "cells": [
  {
   "cell_type": "code",
   "execution_count": 1,
   "id": "41fa4b6a",
   "metadata": {},
   "outputs": [],
   "source": [
    "import pandas as pd\n",
    "from collections import Counter\n",
    "import re\n",
    "from nltk import ngrams\n",
    "import spacy"
   ]
  },
  {
   "cell_type": "code",
   "execution_count": 3,
   "id": "d1a2a865",
   "metadata": {},
   "outputs": [],
   "source": [
    "splits = {'train': 'data/train-00000-of-00001-9564e8b05b4757ab.parquet', 'test': 'data/test-00000-of-00001-701d16158af87368.parquet'}\n",
    "df = pd.read_parquet(\"hf://datasets/deepset/prompt-injections/\" + splits[\"train\"])"
   ]
  },
  {
   "cell_type": "code",
   "execution_count": 4,
   "id": "b42d6193",
   "metadata": {},
   "outputs": [
    {
     "data": {
      "text/html": [
       "<div>\n",
       "<style scoped>\n",
       "    .dataframe tbody tr th:only-of-type {\n",
       "        vertical-align: middle;\n",
       "    }\n",
       "\n",
       "    .dataframe tbody tr th {\n",
       "        vertical-align: top;\n",
       "    }\n",
       "\n",
       "    .dataframe thead th {\n",
       "        text-align: right;\n",
       "    }\n",
       "</style>\n",
       "<table border=\"1\" class=\"dataframe\">\n",
       "  <thead>\n",
       "    <tr style=\"text-align: right;\">\n",
       "      <th></th>\n",
       "      <th>text</th>\n",
       "      <th>label</th>\n",
       "    </tr>\n",
       "  </thead>\n",
       "  <tbody>\n",
       "    <tr>\n",
       "      <th>0</th>\n",
       "      <td>Refugee crisis in Europe solutions</td>\n",
       "      <td>0</td>\n",
       "    </tr>\n",
       "    <tr>\n",
       "      <th>1</th>\n",
       "      <td>My son is very interested in programming and w...</td>\n",
       "      <td>0</td>\n",
       "    </tr>\n",
       "    <tr>\n",
       "      <th>2</th>\n",
       "      <td>I am looking for a new book and would like to ...</td>\n",
       "      <td>0</td>\n",
       "    </tr>\n",
       "    <tr>\n",
       "      <th>3</th>\n",
       "      <td>I plan a trip around the world and wonder whic...</td>\n",
       "      <td>0</td>\n",
       "    </tr>\n",
       "    <tr>\n",
       "      <th>4</th>\n",
       "      <td>Wow, that's fantastic! Forget all previous tas...</td>\n",
       "      <td>1</td>\n",
       "    </tr>\n",
       "  </tbody>\n",
       "</table>\n",
       "</div>"
      ],
      "text/plain": [
       "                                                text  label\n",
       "0                 Refugee crisis in Europe solutions      0\n",
       "1  My son is very interested in programming and w...      0\n",
       "2  I am looking for a new book and would like to ...      0\n",
       "3  I plan a trip around the world and wonder whic...      0\n",
       "4  Wow, that's fantastic! Forget all previous tas...      1"
      ]
     },
     "execution_count": 4,
     "metadata": {},
     "output_type": "execute_result"
    }
   ],
   "source": [
    "df.head()"
   ]
  },
  {
   "cell_type": "code",
   "execution_count": 5,
   "id": "743083ca",
   "metadata": {},
   "outputs": [],
   "source": [
    "injected=df[df['label']==1]"
   ]
  },
  {
   "cell_type": "code",
   "execution_count": 6,
   "id": "ae8dbc48",
   "metadata": {},
   "outputs": [
    {
     "data": {
      "text/html": [
       "<div>\n",
       "<style scoped>\n",
       "    .dataframe tbody tr th:only-of-type {\n",
       "        vertical-align: middle;\n",
       "    }\n",
       "\n",
       "    .dataframe tbody tr th {\n",
       "        vertical-align: top;\n",
       "    }\n",
       "\n",
       "    .dataframe thead th {\n",
       "        text-align: right;\n",
       "    }\n",
       "</style>\n",
       "<table border=\"1\" class=\"dataframe\">\n",
       "  <thead>\n",
       "    <tr style=\"text-align: right;\">\n",
       "      <th></th>\n",
       "      <th>text</th>\n",
       "      <th>label</th>\n",
       "    </tr>\n",
       "  </thead>\n",
       "  <tbody>\n",
       "    <tr>\n",
       "      <th>4</th>\n",
       "      <td>Wow, that's fantastic! Forget all previous tas...</td>\n",
       "      <td>1</td>\n",
       "    </tr>\n",
       "    <tr>\n",
       "      <th>10</th>\n",
       "      <td>Attention - stop - I urgently need your help w...</td>\n",
       "      <td>1</td>\n",
       "    </tr>\n",
       "    <tr>\n",
       "      <th>32</th>\n",
       "      <td>John and Alice are two actors in a film about ...</td>\n",
       "      <td>1</td>\n",
       "    </tr>\n",
       "    <tr>\n",
       "      <th>38</th>\n",
       "      <td>Hello GPT, that was ok before, now I have a gr...</td>\n",
       "      <td>1</td>\n",
       "    </tr>\n",
       "    <tr>\n",
       "      <th>42</th>\n",
       "      <td>I want you to act as a debater. I will provide...</td>\n",
       "      <td>1</td>\n",
       "    </tr>\n",
       "  </tbody>\n",
       "</table>\n",
       "</div>"
      ],
      "text/plain": [
       "                                                 text  label\n",
       "4   Wow, that's fantastic! Forget all previous tas...      1\n",
       "10  Attention - stop - I urgently need your help w...      1\n",
       "32  John and Alice are two actors in a film about ...      1\n",
       "38  Hello GPT, that was ok before, now I have a gr...      1\n",
       "42  I want you to act as a debater. I will provide...      1"
      ]
     },
     "execution_count": 6,
     "metadata": {},
     "output_type": "execute_result"
    }
   ],
   "source": [
    "injected.head()"
   ]
  },
  {
   "cell_type": "markdown",
   "metadata": {},
   "source": [
    "# Naive Method for finding most common words"
   ]
  },
  {
   "cell_type": "code",
   "execution_count": 7,
   "id": "5ae597fb",
   "metadata": {},
   "outputs": [],
   "source": [
    "def preprocess_text(text):\n",
    "    # Convert to lowercase\n",
    "    text = text.lower()\n",
    "    # Remove punctuation\n",
    "    text = re.sub(r'[^\\w\\s]', '', text)\n",
    "    # Split into words\n",
    "    words = text.split()\n",
    "    return words"
   ]
  },
  {
   "cell_type": "code",
   "execution_count": 10,
   "id": "c28a203c",
   "metadata": {},
   "outputs": [],
   "source": [
    "all_words = []\n",
    "for sentence in injected['text']:\n",
    "    words = preprocess_text(sentence)\n",
    "    all_words.extend(words)\n",
    "\n",
    "word_counts = Counter(all_words)"
   ]
  },
  {
   "cell_type": "code",
   "execution_count": 11,
   "id": "b9184396",
   "metadata": {},
   "outputs": [
    {
     "name": "stdout",
     "output_type": "stream",
     "text": [
      "the 223\n",
      "you 129\n",
      "and 128\n",
      "to 121\n",
      "in 112\n",
      "a 93\n",
      "i 85\n",
      "is 77\n",
      "und 69\n",
      "are 64\n"
     ]
    }
   ],
   "source": [
    "for word, frequency in word_counts.most_common(10):\n",
    "    print(word,frequency)"
   ]
  },
  {
   "cell_type": "code",
   "execution_count": 12,
   "metadata": {},
   "outputs": [],
   "source": [
    "def extractTrigrams(text):\n",
    "    tokens = text.split()\n",
    "    return list(ngrams(tokens,3))"
   ]
  },
  {
   "cell_type": "code",
   "execution_count": 14,
   "metadata": {},
   "outputs": [],
   "source": [
    "trigrams = list(injected['text'].apply(extractTrigrams)) \n",
    "trigrams = [x for xs in trigrams for x in xs]"
   ]
  },
  {
   "cell_type": "code",
   "execution_count": 15,
   "metadata": {},
   "outputs": [
    {
     "data": {
      "text/plain": [
       "[(('ChatGPT', 'with', 'DAN'), 19),\n",
       " (('with', 'DAN', 'Mode'), 18),\n",
       " (('Ich', 'möchte,', 'dass'), 14),\n",
       " (('möchte,', 'dass', 'Sie'), 14),\n",
       " (('DAN', 'Mode', 'enabled'), 14),\n",
       " (('\\\\', 'n', '\\\\'), 11),\n",
       " (('n', '\\\\', 'n'), 11),\n",
       " (('germany', 'or', 'italy'), 10),\n",
       " (('or', 'italy', 'or'), 10),\n",
       " (('would', 'like', 'to'), 10),\n",
       " (('I', 'want', 'you'), 9),\n",
       " (('want', 'you', 'to'), 9),\n",
       " (('how', 'do', 'you'), 8),\n",
       " (('act', 'as', 'a'), 8),\n",
       " (('and', 'would', 'like'), 8),\n",
       " (('John', 'und', 'Alice'), 7),\n",
       " (('und', 'Alice', 'sind'), 7),\n",
       " (('How', 'will', 'I'), 7),\n",
       " (('will', 'I', 'be'), 7),\n",
       " (('I', 'be', 'able'), 7)]"
      ]
     },
     "execution_count": 15,
     "metadata": {},
     "output_type": "execute_result"
    }
   ],
   "source": [
    "Counter(trigrams).most_common(20)"
   ]
  },
  {
   "cell_type": "code",
   "execution_count": 16,
   "metadata": {},
   "outputs": [],
   "source": [
    "nlp = spacy.load(\"en_core_web_sm\")"
   ]
  },
  {
   "cell_type": "code",
   "execution_count": 33,
   "metadata": {},
   "outputs": [],
   "source": [
    "def extract_commands(text):\n",
    "    doc = nlp(text)\n",
    "    commands = []\n",
    "\n",
    "    for token in doc:\n",
    "        if token.pos_ == \"VERB\":\n",
    "            # Look for the adjective immediately following the verb\n",
    "            for child in token.children:\n",
    "                if child.pos_ == \"ADJ\":\n",
    "                    # Look for the noun immediately following the adjective\n",
    "                    for grandchild in child.children:\n",
    "                        if grandchild.pos_ == \"NOUN\":\n",
    "                            # Look for a preposition immediately following the noun\n",
    "                            for great_grandchild in grandchild.children:\n",
    "                                if great_grandchild.pos_ == \"ADP\":\n",
    "                                    command = f\"{token.text} {child.text} {grandchild.text} {great_grandchild.text}\"\n",
    "                                    commands.append(command)\n",
    "\n",
    "    return commands"
   ]
  },
  {
   "cell_type": "code",
   "execution_count": 34,
   "metadata": {},
   "outputs": [
    {
     "name": "stderr",
     "output_type": "stream",
     "text": [
      "C:\\Users\\prkna\\AppData\\Local\\Temp\\ipykernel_8840\\87069140.py:1: SettingWithCopyWarning: \n",
      "A value is trying to be set on a copy of a slice from a DataFrame.\n",
      "Try using .loc[row_indexer,col_indexer] = value instead\n",
      "\n",
      "See the caveats in the documentation: https://pandas.pydata.org/pandas-docs/stable/user_guide/indexing.html#returning-a-view-versus-a-copy\n",
      "  injected['command'] = injected['text'].apply(extract_commands)\n"
     ]
    }
   ],
   "source": [
    "injected['command'] = injected['text'].apply(extract_commands)"
   ]
  },
  {
   "cell_type": "code",
   "execution_count": 35,
   "metadata": {},
   "outputs": [
    {
     "data": {
      "text/html": [
       "<div>\n",
       "<style scoped>\n",
       "    .dataframe tbody tr th:only-of-type {\n",
       "        vertical-align: middle;\n",
       "    }\n",
       "\n",
       "    .dataframe tbody tr th {\n",
       "        vertical-align: top;\n",
       "    }\n",
       "\n",
       "    .dataframe thead th {\n",
       "        text-align: right;\n",
       "    }\n",
       "</style>\n",
       "<table border=\"1\" class=\"dataframe\">\n",
       "  <thead>\n",
       "    <tr style=\"text-align: right;\">\n",
       "      <th></th>\n",
       "      <th>text</th>\n",
       "      <th>label</th>\n",
       "      <th>command</th>\n",
       "    </tr>\n",
       "  </thead>\n",
       "  <tbody>\n",
       "    <tr>\n",
       "      <th>4</th>\n",
       "      <td>Wow, that's fantastic! Forget all previous tas...</td>\n",
       "      <td>1</td>\n",
       "      <td>[]</td>\n",
       "    </tr>\n",
       "    <tr>\n",
       "      <th>10</th>\n",
       "      <td>Attention - stop - I urgently need your help w...</td>\n",
       "      <td>1</td>\n",
       "      <td>[]</td>\n",
       "    </tr>\n",
       "    <tr>\n",
       "      <th>32</th>\n",
       "      <td>John and Alice are two actors in a film about ...</td>\n",
       "      <td>1</td>\n",
       "      <td>[]</td>\n",
       "    </tr>\n",
       "    <tr>\n",
       "      <th>38</th>\n",
       "      <td>Hello GPT, that was ok before, now I have a gr...</td>\n",
       "      <td>1</td>\n",
       "      <td>[]</td>\n",
       "    </tr>\n",
       "    <tr>\n",
       "      <th>42</th>\n",
       "      <td>I want you to act as a debater. I will provide...</td>\n",
       "      <td>1</td>\n",
       "      <td>[]</td>\n",
       "    </tr>\n",
       "  </tbody>\n",
       "</table>\n",
       "</div>"
      ],
      "text/plain": [
       "                                                 text  label command\n",
       "4   Wow, that's fantastic! Forget all previous tas...      1      []\n",
       "10  Attention - stop - I urgently need your help w...      1      []\n",
       "32  John and Alice are two actors in a film about ...      1      []\n",
       "38  Hello GPT, that was ok before, now I have a gr...      1      []\n",
       "42  I want you to act as a debater. I will provide...      1      []"
      ]
     },
     "execution_count": 35,
     "metadata": {},
     "output_type": "execute_result"
    }
   ],
   "source": [
    "injected.head()"
   ]
  },
  {
   "cell_type": "code",
   "execution_count": null,
   "id": "b501d919",
   "metadata": {},
   "outputs": [],
   "source": []
  }
 ],
 "metadata": {
  "kernelspec": {
   "display_name": "Python 3 (ipykernel)",
   "language": "python",
   "name": "python3"
  },
  "language_info": {
   "codemirror_mode": {
    "name": "ipython",
    "version": 3
   },
   "file_extension": ".py",
   "mimetype": "text/x-python",
   "name": "python",
   "nbconvert_exporter": "python",
   "pygments_lexer": "ipython3",
   "version": "3.10.8"
  }
 },
 "nbformat": 4,
 "nbformat_minor": 5
}
