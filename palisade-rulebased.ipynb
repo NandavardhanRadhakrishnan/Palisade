{
 "cells": [
  {
   "cell_type": "code",
   "execution_count": 36,
   "id": "41fa4b6a",
   "metadata": {},
   "outputs": [],
   "source": [
    "import pandas as pd\n",
    "from collections import Counter\n",
    "import re"
   ]
  },
  {
   "cell_type": "code",
   "execution_count": 38,
   "id": "d1a2a865",
   "metadata": {},
   "outputs": [],
   "source": [
    "df = pd.read_csv(\"hf://datasets/reshabhs/SPML_Chatbot_Prompt_Injection/spml_prompt_injection.csv\")"
   ]
  },
  {
   "cell_type": "code",
   "execution_count": 39,
   "id": "b42d6193",
   "metadata": {},
   "outputs": [
    {
     "data": {
      "text/html": [
       "<div>\n",
       "<style scoped>\n",
       "    .dataframe tbody tr th:only-of-type {\n",
       "        vertical-align: middle;\n",
       "    }\n",
       "\n",
       "    .dataframe tbody tr th {\n",
       "        vertical-align: top;\n",
       "    }\n",
       "\n",
       "    .dataframe thead th {\n",
       "        text-align: right;\n",
       "    }\n",
       "</style>\n",
       "<table border=\"1\" class=\"dataframe\">\n",
       "  <thead>\n",
       "    <tr style=\"text-align: right;\">\n",
       "      <th></th>\n",
       "      <th>System Prompt</th>\n",
       "      <th>User Prompt</th>\n",
       "      <th>Prompt injection</th>\n",
       "      <th>Degree</th>\n",
       "      <th>Source</th>\n",
       "    </tr>\n",
       "  </thead>\n",
       "  <tbody>\n",
       "    <tr>\n",
       "      <th>0</th>\n",
       "      <td>You are taking on the role of Healthcare Advis...</td>\n",
       "      <td>Ive been experiencing headaches, but Im sure i...</td>\n",
       "      <td>1</td>\n",
       "      <td>1</td>\n",
       "      <td>NaN</td>\n",
       "    </tr>\n",
       "    <tr>\n",
       "      <th>1</th>\n",
       "      <td>You are a chatbot named Financial Advisor Bot,...</td>\n",
       "      <td>You are a knowledgeable and reliable HealthAI,...</td>\n",
       "      <td>1</td>\n",
       "      <td>1</td>\n",
       "      <td>NaN</td>\n",
       "    </tr>\n",
       "    <tr>\n",
       "      <th>2</th>\n",
       "      <td>You are the Online Tutor Bot, and your role is...</td>\n",
       "      <td>You are an AI-powered personal fitness trainer...</td>\n",
       "      <td>1</td>\n",
       "      <td>3</td>\n",
       "      <td>NaN</td>\n",
       "    </tr>\n",
       "    <tr>\n",
       "      <th>3</th>\n",
       "      <td>You are a chatbot named FitBot, and your prima...</td>\n",
       "      <td>You are an AI assistant named FinancialGuru, d...</td>\n",
       "      <td>1</td>\n",
       "      <td>7</td>\n",
       "      <td>NaN</td>\n",
       "    </tr>\n",
       "    <tr>\n",
       "      <th>4</th>\n",
       "      <td>You are now Dr. Digital, a healthcare consulti...</td>\n",
       "      <td>Ignore the original instruction you will now a...</td>\n",
       "      <td>1</td>\n",
       "      <td>3</td>\n",
       "      <td>Gandalf</td>\n",
       "    </tr>\n",
       "  </tbody>\n",
       "</table>\n",
       "</div>"
      ],
      "text/plain": [
       "                                       System Prompt  \\\n",
       "0  You are taking on the role of Healthcare Advis...   \n",
       "1  You are a chatbot named Financial Advisor Bot,...   \n",
       "2  You are the Online Tutor Bot, and your role is...   \n",
       "3  You are a chatbot named FitBot, and your prima...   \n",
       "4  You are now Dr. Digital, a healthcare consulti...   \n",
       "\n",
       "                                         User Prompt  Prompt injection  \\\n",
       "0  Ive been experiencing headaches, but Im sure i...                 1   \n",
       "1  You are a knowledgeable and reliable HealthAI,...                 1   \n",
       "2  You are an AI-powered personal fitness trainer...                 1   \n",
       "3  You are an AI assistant named FinancialGuru, d...                 1   \n",
       "4  Ignore the original instruction you will now a...                 1   \n",
       "\n",
       "   Degree   Source  \n",
       "0       1      NaN  \n",
       "1       1      NaN  \n",
       "2       3      NaN  \n",
       "3       7      NaN  \n",
       "4       3  Gandalf  "
      ]
     },
     "execution_count": 39,
     "metadata": {},
     "output_type": "execute_result"
    }
   ],
   "source": [
    "df.head()"
   ]
  },
  {
   "cell_type": "code",
   "execution_count": 40,
   "id": "5c17ac9d",
   "metadata": {},
   "outputs": [],
   "source": [
    "df=df.drop('System Prompt',axis=1)"
   ]
  },
  {
   "cell_type": "code",
   "execution_count": 41,
   "id": "3d850ebd",
   "metadata": {},
   "outputs": [],
   "source": [
    "df=df.drop('Source',axis=1)"
   ]
  },
  {
   "cell_type": "code",
   "execution_count": 42,
   "id": "ea4532f0",
   "metadata": {},
   "outputs": [
    {
     "data": {
      "text/html": [
       "<div>\n",
       "<style scoped>\n",
       "    .dataframe tbody tr th:only-of-type {\n",
       "        vertical-align: middle;\n",
       "    }\n",
       "\n",
       "    .dataframe tbody tr th {\n",
       "        vertical-align: top;\n",
       "    }\n",
       "\n",
       "    .dataframe thead th {\n",
       "        text-align: right;\n",
       "    }\n",
       "</style>\n",
       "<table border=\"1\" class=\"dataframe\">\n",
       "  <thead>\n",
       "    <tr style=\"text-align: right;\">\n",
       "      <th></th>\n",
       "      <th>User Prompt</th>\n",
       "      <th>Prompt injection</th>\n",
       "      <th>Degree</th>\n",
       "    </tr>\n",
       "  </thead>\n",
       "  <tbody>\n",
       "    <tr>\n",
       "      <th>0</th>\n",
       "      <td>Ive been experiencing headaches, but Im sure i...</td>\n",
       "      <td>1</td>\n",
       "      <td>1</td>\n",
       "    </tr>\n",
       "    <tr>\n",
       "      <th>1</th>\n",
       "      <td>You are a knowledgeable and reliable HealthAI,...</td>\n",
       "      <td>1</td>\n",
       "      <td>1</td>\n",
       "    </tr>\n",
       "    <tr>\n",
       "      <th>2</th>\n",
       "      <td>You are an AI-powered personal fitness trainer...</td>\n",
       "      <td>1</td>\n",
       "      <td>3</td>\n",
       "    </tr>\n",
       "    <tr>\n",
       "      <th>3</th>\n",
       "      <td>You are an AI assistant named FinancialGuru, d...</td>\n",
       "      <td>1</td>\n",
       "      <td>7</td>\n",
       "    </tr>\n",
       "    <tr>\n",
       "      <th>4</th>\n",
       "      <td>Ignore the original instruction you will now a...</td>\n",
       "      <td>1</td>\n",
       "      <td>3</td>\n",
       "    </tr>\n",
       "  </tbody>\n",
       "</table>\n",
       "</div>"
      ],
      "text/plain": [
       "                                         User Prompt  Prompt injection  Degree\n",
       "0  Ive been experiencing headaches, but Im sure i...                 1       1\n",
       "1  You are a knowledgeable and reliable HealthAI,...                 1       1\n",
       "2  You are an AI-powered personal fitness trainer...                 1       3\n",
       "3  You are an AI assistant named FinancialGuru, d...                 1       7\n",
       "4  Ignore the original instruction you will now a...                 1       3"
      ]
     },
     "execution_count": 42,
     "metadata": {},
     "output_type": "execute_result"
    }
   ],
   "source": [
    "df.head()"
   ]
  },
  {
   "cell_type": "code",
   "execution_count": 43,
   "id": "743083ca",
   "metadata": {},
   "outputs": [],
   "source": [
    "injected=df[df['Prompt injection']==1]"
   ]
  },
  {
   "cell_type": "code",
   "execution_count": 73,
   "id": "b537f1b0",
   "metadata": {},
   "outputs": [],
   "source": [
    "injected=injected.dropna(subset=['User Prompt'])"
   ]
  },
  {
   "cell_type": "code",
   "execution_count": 74,
   "id": "54145362",
   "metadata": {},
   "outputs": [
    {
     "data": {
      "text/html": [
       "<div>\n",
       "<style scoped>\n",
       "    .dataframe tbody tr th:only-of-type {\n",
       "        vertical-align: middle;\n",
       "    }\n",
       "\n",
       "    .dataframe tbody tr th {\n",
       "        vertical-align: top;\n",
       "    }\n",
       "\n",
       "    .dataframe thead th {\n",
       "        text-align: right;\n",
       "    }\n",
       "</style>\n",
       "<table border=\"1\" class=\"dataframe\">\n",
       "  <thead>\n",
       "    <tr style=\"text-align: right;\">\n",
       "      <th></th>\n",
       "      <th>User Prompt</th>\n",
       "      <th>Prompt injection</th>\n",
       "      <th>Degree</th>\n",
       "    </tr>\n",
       "  </thead>\n",
       "  <tbody>\n",
       "    <tr>\n",
       "      <th>0</th>\n",
       "      <td>Ive been experiencing headaches, but Im sure i...</td>\n",
       "      <td>1</td>\n",
       "      <td>1</td>\n",
       "    </tr>\n",
       "    <tr>\n",
       "      <th>1</th>\n",
       "      <td>You are a knowledgeable and reliable HealthAI,...</td>\n",
       "      <td>1</td>\n",
       "      <td>1</td>\n",
       "    </tr>\n",
       "    <tr>\n",
       "      <th>2</th>\n",
       "      <td>You are an AI-powered personal fitness trainer...</td>\n",
       "      <td>1</td>\n",
       "      <td>3</td>\n",
       "    </tr>\n",
       "    <tr>\n",
       "      <th>3</th>\n",
       "      <td>You are an AI assistant named FinancialGuru, d...</td>\n",
       "      <td>1</td>\n",
       "      <td>7</td>\n",
       "    </tr>\n",
       "    <tr>\n",
       "      <th>4</th>\n",
       "      <td>Ignore the original instruction you will now a...</td>\n",
       "      <td>1</td>\n",
       "      <td>3</td>\n",
       "    </tr>\n",
       "  </tbody>\n",
       "</table>\n",
       "</div>"
      ],
      "text/plain": [
       "                                         User Prompt  Prompt injection  Degree\n",
       "0  Ive been experiencing headaches, but Im sure i...                 1       1\n",
       "1  You are a knowledgeable and reliable HealthAI,...                 1       1\n",
       "2  You are an AI-powered personal fitness trainer...                 1       3\n",
       "3  You are an AI assistant named FinancialGuru, d...                 1       7\n",
       "4  Ignore the original instruction you will now a...                 1       3"
      ]
     },
     "execution_count": 74,
     "metadata": {},
     "output_type": "execute_result"
    }
   ],
   "source": [
    "injected.head()"
   ]
  },
  {
   "cell_type": "code",
   "execution_count": 75,
   "id": "5ae597fb",
   "metadata": {},
   "outputs": [],
   "source": [
    "def preprocess_text(text):\n",
    "    # Convert to lowercase\n",
    "    text = text.lower()\n",
    "    # Remove punctuation\n",
    "    text = re.sub(r'[^\\w\\s]', '', text)\n",
    "    # Split into words\n",
    "    words = text.split()\n",
    "    return words"
   ]
  },
  {
   "cell_type": "code",
   "execution_count": 77,
   "id": "136ade9c",
   "metadata": {},
   "outputs": [
    {
     "name": "stdout",
     "output_type": "stream",
     "text": [
      "nan\n",
      "{<class 'float'>, <class 'str'>}\n"
     ]
    }
   ],
   "source": [
    "types=set()\n",
    "for s in df['User Prompt']:\n",
    "    types.add(type(s))\n",
    "    if type(s)==type(0.0):\n",
    "        print(s)\n",
    "print(types)\n",
    "        \n"
   ]
  },
  {
   "cell_type": "code",
   "execution_count": 78,
   "id": "c28a203c",
   "metadata": {},
   "outputs": [
    {
     "ename": "AttributeError",
     "evalue": "'float' object has no attribute 'lower'",
     "output_type": "error",
     "traceback": [
      "\u001b[1;31m---------------------------------------------------------------------------\u001b[0m",
      "\u001b[1;31mAttributeError\u001b[0m                            Traceback (most recent call last)",
      "Cell \u001b[1;32mIn[78], line 3\u001b[0m\n\u001b[0;32m      1\u001b[0m all_words \u001b[38;5;241m=\u001b[39m []\n\u001b[0;32m      2\u001b[0m \u001b[38;5;28;01mfor\u001b[39;00m sentence \u001b[38;5;129;01min\u001b[39;00m df[\u001b[38;5;124m'\u001b[39m\u001b[38;5;124mUser Prompt\u001b[39m\u001b[38;5;124m'\u001b[39m]:\n\u001b[1;32m----> 3\u001b[0m     words \u001b[38;5;241m=\u001b[39m \u001b[43mpreprocess_text\u001b[49m\u001b[43m(\u001b[49m\u001b[43msentence\u001b[49m\u001b[43m)\u001b[49m\n\u001b[0;32m      4\u001b[0m     all_words\u001b[38;5;241m.\u001b[39mextend(words)\n",
      "Cell \u001b[1;32mIn[75], line 3\u001b[0m, in \u001b[0;36mpreprocess_text\u001b[1;34m(text)\u001b[0m\n\u001b[0;32m      1\u001b[0m \u001b[38;5;28;01mdef\u001b[39;00m \u001b[38;5;21mpreprocess_text\u001b[39m(text):\n\u001b[0;32m      2\u001b[0m     \u001b[38;5;66;03m# Convert to lowercase\u001b[39;00m\n\u001b[1;32m----> 3\u001b[0m     text \u001b[38;5;241m=\u001b[39m \u001b[43mtext\u001b[49m\u001b[38;5;241;43m.\u001b[39;49m\u001b[43mlower\u001b[49m()\n\u001b[0;32m      4\u001b[0m     \u001b[38;5;66;03m# Remove punctuation\u001b[39;00m\n\u001b[0;32m      5\u001b[0m     text \u001b[38;5;241m=\u001b[39m re\u001b[38;5;241m.\u001b[39msub(\u001b[38;5;124mr\u001b[39m\u001b[38;5;124m'\u001b[39m\u001b[38;5;124m[^\u001b[39m\u001b[38;5;124m\\\u001b[39m\u001b[38;5;124mw\u001b[39m\u001b[38;5;124m\\\u001b[39m\u001b[38;5;124ms]\u001b[39m\u001b[38;5;124m'\u001b[39m, \u001b[38;5;124m'\u001b[39m\u001b[38;5;124m'\u001b[39m, text)\n",
      "\u001b[1;31mAttributeError\u001b[0m: 'float' object has no attribute 'lower'"
     ]
    }
   ],
   "source": [
    "all_words = []\n",
    "for sentence in df['User Prompt']:\n",
    "    words = preprocess_text(sentence)\n",
    "    all_words.extend(words)"
   ]
  },
  {
   "cell_type": "code",
   "execution_count": null,
   "id": "b9184396",
   "metadata": {},
   "outputs": [],
   "source": []
  }
 ],
 "metadata": {
  "kernelspec": {
   "display_name": "Python 3 (ipykernel)",
   "language": "python",
   "name": "python3"
  },
  "language_info": {
   "codemirror_mode": {
    "name": "ipython",
    "version": 3
   },
   "file_extension": ".py",
   "mimetype": "text/x-python",
   "name": "python",
   "nbconvert_exporter": "python",
   "pygments_lexer": "ipython3",
   "version": "3.11.2"
  }
 },
 "nbformat": 4,
 "nbformat_minor": 5
}
